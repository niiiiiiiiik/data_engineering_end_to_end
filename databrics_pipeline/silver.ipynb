{
 "cells": [
  {
   "cell_type": "code",
   "execution_count": 0,
   "metadata": {
    "application/vnd.databricks.v1+cell": {
     "cellMetadata": {
      "byteLimit": 2048000,
      "rowLimit": 10000
     },
     "inputWidgets": {},
     "nuid": "9a6e7efd-4322-43bd-b834-075989539a8c",
     "showTitle": false,
     "tableResultSettingsMap": {},
     "title": ""
    }
   },
   "outputs": [],
   "source": [
    "from pyspark.sql import *\n",
    "from pyspark.sql.functions import *\n",
    "from pyspark.sql.types import *\n",
    "from pyspark.sql.window import *\n",
    "from pyspark.sql import functions as F\n"
   ]
  },
  {
   "cell_type": "markdown",
   "metadata": {
    "application/vnd.databricks.v1+cell": {
     "cellMetadata": {
      "byteLimit": 2048000,
      "rowLimit": 10000
     },
     "inputWidgets": {},
     "nuid": "404a9337-9cfc-4918-9878-950894235f2c",
     "showTitle": false,
     "tableResultSettingsMap": {},
     "title": ""
    }
   },
   "source": [
    "data reading\n"
   ]
  },
  {
   "cell_type": "code",
   "execution_count": 0,
   "metadata": {
    "application/vnd.databricks.v1+cell": {
     "cellMetadata": {
      "byteLimit": 2048000,
      "rowLimit": 10000
     },
     "inputWidgets": {},
     "nuid": "32361489-d3c7-4d48-9903-4e9c2865a8f1",
     "showTitle": false,
     "tableResultSettingsMap": {},
     "title": ""
    }
   },
   "outputs": [],
   "source": [
    "df=spark.read.format(\"parquet\")\\\n",
    "    .load(\"abfss://bronze@cajainterview.dfs.core.windows.net/dailydischarge\")"
   ]
  },
  {
   "cell_type": "code",
   "execution_count": 0,
   "metadata": {
    "application/vnd.databricks.v1+cell": {
     "cellMetadata": {
      "byteLimit": 2048000,
      "rowLimit": 10000
     },
     "inputWidgets": {},
     "nuid": "f5d0d14a-5fdc-4478-bbaf-6267707d124a",
     "showTitle": false,
     "tableResultSettingsMap": {},
     "title": ""
    }
   },
   "outputs": [],
   "source": [
    "display(df)"
   ]
  },
  {
   "cell_type": "code",
   "execution_count": 0,
   "metadata": {
    "application/vnd.databricks.v1+cell": {
     "cellMetadata": {
      "byteLimit": 2048000,
      "rowLimit": 10000
     },
     "inputWidgets": {},
     "nuid": "1f732a27-cb04-4383-9929-a24ef87964ce",
     "showTitle": false,
     "tableResultSettingsMap": {},
     "title": ""
    }
   },
   "outputs": [],
   "source": [
    "df.printSchema()"
   ]
  },
  {
   "cell_type": "code",
   "execution_count": 0,
   "metadata": {
    "application/vnd.databricks.v1+cell": {
     "cellMetadata": {
      "byteLimit": 2048000,
      "rowLimit": 10000
     },
     "inputWidgets": {},
     "nuid": "9ac17be3-1ce7-4d57-9316-a45951532d1f",
     "showTitle": false,
     "tableResultSettingsMap": {},
     "title": ""
    }
   },
   "outputs": [],
   "source": [
    "df= df.drop(\"Include?\",\"_rescued_data\")"
   ]
  },
  {
   "cell_type": "code",
   "execution_count": 0,
   "metadata": {
    "application/vnd.databricks.v1+cell": {
     "cellMetadata": {
      "byteLimit": 2048000,
      "rowLimit": 10000
     },
     "inputWidgets": {},
     "nuid": "01ac3b9d-fdae-4dc2-b176-1ee1681d8984",
     "showTitle": false,
     "tableResultSettingsMap": {},
     "title": ""
    }
   },
   "outputs": [],
   "source": [
    "display(df)"
   ]
  },
  {
   "cell_type": "code",
   "execution_count": 0,
   "metadata": {
    "application/vnd.databricks.v1+cell": {
     "cellMetadata": {
      "byteLimit": 2048000,
      "rowLimit": 10000
     },
     "inputWidgets": {},
     "nuid": "44a5bbc4-a363-4fd8-8026-f94fcd078eff",
     "showTitle": false,
     "tableResultSettingsMap": {},
     "title": ""
    }
   },
   "outputs": [],
   "source": [
    "from pyspark.sql.functions import to_date, col, trim\n",
    "\n",
    "df = df.withColumn(\n",
    "    \"Period\",\n",
    "    to_date( trim(col(\"Period\")) , \"dd/MM/yyyy\" )\n",
    ")"
   ]
  },
  {
   "cell_type": "code",
   "execution_count": 0,
   "metadata": {
    "application/vnd.databricks.v1+cell": {
     "cellMetadata": {
      "byteLimit": 2048000,
      "rowLimit": 10000
     },
     "inputWidgets": {},
     "nuid": "224ff883-2f24-4334-bbb9-653f582f7660",
     "showTitle": false,
     "tableResultSettingsMap": {},
     "title": ""
    }
   },
   "outputs": [],
   "source": [
    "display(df)"
   ]
  },
  {
   "cell_type": "code",
   "execution_count": 0,
   "metadata": {
    "application/vnd.databricks.v1+cell": {
     "cellMetadata": {
      "byteLimit": 2048000,
      "rowLimit": 10000
     },
     "inputWidgets": {},
     "nuid": "5bcdfbf6-d29b-48c8-9b42-bb50dc9c04b3",
     "showTitle": false,
     "tableResultSettingsMap": {},
     "title": ""
    }
   },
   "outputs": [],
   "source": [
    "df=df.withColumn(\"year\", year(\"Period\")).withColumn(\"month\", month(\"Period\"))"
   ]
  },
  {
   "cell_type": "code",
   "execution_count": 0,
   "metadata": {
    "application/vnd.databricks.v1+cell": {
     "cellMetadata": {
      "byteLimit": 2048000,
      "rowLimit": 10000
     },
     "inputWidgets": {},
     "nuid": "dc9b0acd-79ce-46fb-a8ca-fc37ae1f8e5b",
     "showTitle": false,
     "tableResultSettingsMap": {},
     "title": ""
    }
   },
   "outputs": [],
   "source": [
    "display(df)"
   ]
  },
  {
   "cell_type": "code",
   "execution_count": 0,
   "metadata": {
    "application/vnd.databricks.v1+cell": {
     "cellMetadata": {
      "byteLimit": 2048000,
      "rowLimit": 10000
     },
     "inputWidgets": {},
     "nuid": "f3cefad5-cd16-4165-b0ae-6ac2204a6f3d",
     "showTitle": false,
     "tableResultSettingsMap": {},
     "title": ""
    }
   },
   "outputs": [],
   "source": [
    "renamed_cols = [\"period\", \"level\", \"region\", \"icb\", \"org_code\", \"org_name\",\n",
    "                \"metric\", \"metric_type\", \"metric_group\", \"value\", \"year\", \"month\"]"
   ]
  },
  {
   "cell_type": "code",
   "execution_count": 0,
   "metadata": {
    "application/vnd.databricks.v1+cell": {
     "cellMetadata": {
      "byteLimit": 2048000,
      "rowLimit": 10000
     },
     "inputWidgets": {},
     "nuid": "bf4a64ed-90d1-4cca-930a-8f1bcd3a2f71",
     "showTitle": false,
     "tableResultSettingsMap": {},
     "title": ""
    }
   },
   "outputs": [],
   "source": [
    "df = df.toDF(*renamed_cols)"
   ]
  },
  {
   "cell_type": "code",
   "execution_count": 0,
   "metadata": {
    "application/vnd.databricks.v1+cell": {
     "cellMetadata": {
      "byteLimit": 2048000,
      "rowLimit": 10000
     },
     "inputWidgets": {},
     "nuid": "08192361-7dbd-4fdf-9828-94840df4ef86",
     "showTitle": false,
     "tableResultSettingsMap": {},
     "title": ""
    }
   },
   "outputs": [],
   "source": [
    "display(df)"
   ]
  },
  {
   "cell_type": "code",
   "execution_count": 0,
   "metadata": {
    "application/vnd.databricks.v1+cell": {
     "cellMetadata": {
      "byteLimit": 2048000,
      "rowLimit": 10000
     },
     "inputWidgets": {},
     "nuid": "5a76f98b-71a2-4ccd-95f0-2d88f1b3bdba",
     "showTitle": false,
     "tableResultSettingsMap": {},
     "title": ""
    }
   },
   "outputs": [],
   "source": [
    "df = df.withColumn(\n",
    "    \"value\",\n",
    "    F.when(F.col(\"value\") == \"-\", None)         # dash → null\n",
    "     .otherwise(F.col(\"value\").cast(\"int\"))      # else cast legitimately\n",
    ")"
   ]
  },
  {
   "cell_type": "code",
   "execution_count": 0,
   "metadata": {
    "application/vnd.databricks.v1+cell": {
     "cellMetadata": {
      "byteLimit": 2048000,
      "rowLimit": 10000
     },
     "inputWidgets": {},
     "nuid": "a609f44f-7004-49bd-acfa-99d0a06897fb",
     "showTitle": false,
     "tableResultSettingsMap": {},
     "title": ""
    }
   },
   "outputs": [],
   "source": [
    "display(df)"
   ]
  },
  {
   "cell_type": "code",
   "execution_count": 0,
   "metadata": {
    "application/vnd.databricks.v1+cell": {
     "cellMetadata": {
      "byteLimit": 2048000,
      "rowLimit": 10000
     },
     "inputWidgets": {},
     "nuid": "3a972338-494e-4a8c-9594-6289c7738a81",
     "showTitle": false,
     "tableResultSettingsMap": {},
     "title": ""
    }
   },
   "outputs": [],
   "source": [
    "df.printSchema()"
   ]
  },
  {
   "cell_type": "code",
   "execution_count": 0,
   "metadata": {
    "application/vnd.databricks.v1+cell": {
     "cellMetadata": {
      "byteLimit": 2048000,
      "rowLimit": 10000
     },
     "inputWidgets": {},
     "nuid": "1b157a16-26a6-47a7-93af-14434e32e73e",
     "showTitle": false,
     "tableResultSettingsMap": {},
     "title": ""
    }
   },
   "outputs": [],
   "source": [
    "from pyspark.sql.functions import col, sum\n",
    "\n",
    "null_counts = df.select([sum(col(c).isNull().cast(\"int\")).alias(c) for c in df.columns])\n",
    "display(null_counts)"
   ]
  },
  {
   "cell_type": "markdown",
   "metadata": {
    "application/vnd.databricks.v1+cell": {
     "cellMetadata": {
      "byteLimit": 2048000,
      "rowLimit": 10000
     },
     "inputWidgets": {},
     "nuid": "a4a39ced-a0c8-4c4b-928c-f5e4d9227036",
     "showTitle": false,
     "tableResultSettingsMap": {},
     "title": ""
    }
   },
   "source": [
    "Why we back-filled “Metric Type” and “Metric Group”:\n",
    "\n",
    "Consistency across all months\n",
    "\n",
    "The first few CSVs didn’t include those two columns, so without back-filling, some rows would look “incomplete.”\n",
    "\n",
    "By filling them in our Silver layer, every row now has the same set of fields, making our downstream dashboards and reports reliable.\n",
    "\n",
    "Aligning with NHS definitions\n",
    "\n",
    "The NHS specification (Annex F) tells us exactly which questions are “daily” vs “weekly,” and gives each a short code (e.g. NCTR for “no longer meet criteria”).\n",
    "\n",
    "We used those exact definitions so our data matches NHS intent, not arbitrary guesses.\n",
    "\n",
    "Simpler reporting and comparisons\n",
    "\n",
    "With a full “Metric Type” (Daily/Weekly) and “Metric Group” code on every row, analysts and visualization tools can easily group, filter and compare metrics without writing special case logic.\n",
    "\n",
    "Auditability and traceability\n",
    "\n",
    "We keep the original full question text alongside our back-filled codes, so anyone can trace “NCTR” back to “Number of patients who no longer meet the criteria to reside.”\n",
    "\n",
    "If the NHS changes their template again, we can adjust our back-fill rules and still see exactly what the original text said.\n",
    "\n"
   ]
  },
  {
   "cell_type": "code",
   "execution_count": 0,
   "metadata": {
    "application/vnd.databricks.v1+cell": {
     "cellMetadata": {
      "byteLimit": 2048000,
      "rowLimit": 10000
     },
     "inputWidgets": {},
     "nuid": "ed34a1a7-d955-41bf-b1ab-d4548c06e67d",
     "showTitle": false,
     "tableResultSettingsMap": {},
     "title": ""
    }
   },
   "outputs": [],
   "source": [
    "# 1. Backfill metric_type\n",
    "#    All current daily questions (Q1‐Q9) are \"Daily metric\"\n",
    "df = df.withColumn(\n",
    "    \"metric_type\",\n",
    "    when(col(\"metric_type\").isNull(), lit(\"Daily metric\"))\n",
    "    .otherwise(col(\"metric_type\"))\n",
    ")"
   ]
  },
  {
   "cell_type": "code",
   "execution_count": 0,
   "metadata": {
    "application/vnd.databricks.v1+cell": {
     "cellMetadata": {
      "byteLimit": 2048000,
      "rowLimit": 10000
     },
     "inputWidgets": {},
     "nuid": "7866c920-f2d9-48a6-86ee-714f1263677a",
     "showTitle": false,
     "tableResultSettingsMap": {},
     "title": ""
    }
   },
   "outputs": [],
   "source": [
    "from pyspark.sql.functions import col, trim, when, lit\n",
    "\n",
    "# 1. Trim stray whitespace\n",
    "df = df.withColumn(\"metric\", trim(col(\"metric\")))\n",
    "\n",
    "# 2. Exact-match back-fill using raw NHS mappings\n",
    "df = df.withColumn(\n",
    "    \"metric_group\",\n",
    "    when(\n",
    "        col(\"metric_group\").isNull() & (col(\"metric\") == 'Number of patients who meet the criteria to reside'), lit('CTR')\n",
    "    ).when(\n",
    "        col(\"metric_group\").isNull() & (col(\"metric\") == 'Number of patients who no longer meet the criteria to reside'), lit('NCTR')\n",
    "    ).when(\n",
    "        col(\"metric_group\").isNull() & (col(\"metric\") == 'Number of patients discharged'), lit('Discharges')\n",
    "    ).when(\n",
    "        col(\"metric_group\").isNull() & (col(\"metric\") == 'Number of patients remaining in hospital who no longer meet the criteria to reside'), lit('NCTR not discharged')\n",
    "    ).when(\n",
    "        col(\"metric_group\").isNull() & (col(\"metric\") == 'Number of additional bed days, patients with length of stay of 7+ days'), lit('Additional bed days lost')\n",
    "    ).when(\n",
    "        col(\"metric_group\").isNull() & (col(\"metric\") == 'Number of additional bed days, patients with length of stay of 14+ days'), lit('Additional bed days lost')\n",
    "    ).when(\n",
    "        col(\"metric_group\").isNull() & (col(\"metric\") == 'Number of additional bed days, patients with length of stay of 21+ days'), lit('Additional bed days lost')\n",
    "    ).when(\n",
    "        col(\"metric_group\").isNull() & (col(\"metric\") == 'Of the total number of patients discharged between 00:00 and 23:59, the number who used a personal health budget'), lit('PHB')\n",
    "    ).when(\n",
    "        col(\"metric_group\").isNull() & (col(\"metric\") == 'Of the total number of patients who do not meet the criteria to reside that day, the number discharged by 17:00 hours'), lit('DIS004a')\n",
    "    ).when(\n",
    "        col(\"metric_group\").isNull() & (col(\"metric\") == 'Of the total number of patients who do not meet the criteria to reside that day, the number discharged between 17:01 and 23:59 hours'), lit('DIS004b')\n",
    "    ).when(\n",
    "        col(\"metric_group\").isNull() & (col(\"metric\") == 'Of the patients discharged by 17:00 hours to the following locations: Extra Care schemes, Local authority owned residential homes, Other funded care home beds'), lit('DIS005a')\n",
    "    ).when(\n",
    "        col(\"metric_group\").isNull() & (col(\"metric\") == 'Of the patients discharged between 17:01 and 23:59 hours to the following locations: Extra Care schemes, Local authority owned residential homes, Other funded care home beds'), lit('DIS005b')\n",
    "    ).when(\n",
    "        col(\"metric_group\").isNull() & (col(\"metric\") == 'Pathway 0: Discharge to a domestic home, hotel, or other temporary accommodation without the need for new/increased care or support from health and social care'), lit('Discharge destination')\n",
    "    ).when(\n",
    "        col(\"metric_group\").isNull() & (col(\"metric\") == 'Pathway 1: Discharge to a domestic home, hotel, or other temporary accommodation, or hospice at home with rehabilitation, reablement and recovery'), lit('Discharge destination')\n",
    "    ).when(\n",
    "        col(\"metric_group\").isNull() & (col(\"metric\") == 'Pathway 2: Short-term bed/hospice for rehabilitation, reablement and recovery / end of life care'), lit('Discharge destination')\n",
    "    ).when(\n",
    "        col(\"metric_group\").isNull() & (col(\"metric\") == 'Pathway 3: Discharge to a care home as a new admission'), lit('Discharge destination')\n",
    "    ).when(\n",
    "        col(\"metric_group\").isNull() & (col(\"metric\") == 'Awaiting a medical decision/intervention including writing the discharge summary'), lit('A1')\n",
    "    ).when(\n",
    "        col(\"metric_group\").isNull() & (col(\"metric\") == 'Awaiting community equipment and adaptations to housing'), lit('A2')\n",
    "    ).when(\n",
    "        col(\"metric_group\").isNull() & (col(\"metric\") == 'Awaiting confirmation from community hub/single point of access that referral received and actioned'), lit('A3')\n",
    "    ).when(\n",
    "        col(\"metric_group\").isNull() & (col(\"metric\") == 'Awaiting Diagnostic test'), lit('A4')\n",
    "    ).when(\n",
    "        col(\"metric_group\").isNull() & (col(\"metric\") == 'Awaiting medicines to take home'), lit('A5')\n",
    "    ).when(\n",
    "        col(\"metric_group\").isNull() & (col(\"metric\") == 'Awaiting referral to community single point of access'), lit('A6')\n",
    "    ).when(\n",
    "        col(\"metric_group\").isNull() & (col(\"metric\") == 'Awaiting therapy decision to discharge'), lit('A7')\n",
    "    ).when(\n",
    "        col(\"metric_group\").isNull() & (col(\"metric\") == 'Awaiting transport'), lit('A8')\n",
    "    ).when(\n",
    "        col(\"metric_group\").isNull() & (col(\"metric\") == 'Capacity – Bed-based rehabilitation, reablement or recovery services not yet available'), lit('Delay reason')\n",
    "    ).when(\n",
    "        col(\"metric_group\").isNull() & (col(\"metric\") == 'Capacity – End of life care inc Fast-Track CHC not yet available (Pathway 1 or 3)'), lit('Delay reason')\n",
    "    ).when(\n",
    "        col(\"metric_group\").isNull() & (col(\"metric\") == 'Capacity – Equipment and associated training not yet delivered (Pathway 1-3)'), lit('Delay reason')\n",
    "    ).when(\n",
    "        col(\"metric_group\").isNull() & (col(\"metric\") == 'Capacity – Home-based rehabilitation, reablement or recovery services not yet available (Pathway 1)'), lit('Delay reason')\n",
    "    ).when(\n",
    "        col(\"metric_group\").isNull() & (col(\"metric\") == 'Capacity – Housing adaptations not yet completed (Pathway 1 or 3)'), lit('Delay reason')\n",
    "    ).when(\n",
    "        col(\"metric_group\").isNull() & (col(\"metric\") == 'Capacity – Housing provision not yet available (Pathway 0 or 1)'), lit('Delay reason')\n",
    "    ).when(\n",
    "        col(\"metric_group\").isNull() & (col(\"metric\") == 'Capacity – Mental health admitted patient care not yet available (Pathway 2)'), lit('Delay reason')\n",
    "    ).when(\n",
    "        col(\"metric_group\").isNull() & (col(\"metric\") == 'Capacity – Other home-based community health services not yet available (Pathway 1)'), lit('Delay reason')\n",
    "    ).when(\n",
    "        col(\"metric_group\").isNull() & (col(\"metric\") == 'Capacity – Other home-based social care service not yet available (Pathway 1)'), lit('Delay reason')\n",
    "    ).when(\n",
    "        col(\"metric_group\").isNull() & (col(\"metric\") == 'Capacity – Residential/nursing home care not yet available (Pathway 3)'), lit('Delay reason')\n",
    "    ).when(\n",
    "        col(\"metric_group\").isNull() & (col(\"metric\") == 'Care transfer hub process – Awaiting confirmation of funding eligibility'), lit('C')\n",
    "    ).when(\n",
    "        col(\"metric_group\").isNull() & (col(\"metric\") == 'Repatriation/Transfer to another acute trust for specialist treatment or ongoing treatment'), lit('F')\n",
    "    ).when(\n",
    "        col(\"metric_group\").isNull() & (col(\"metric\") == 'No Plan'), lit('Z')\n",
    "    ).when(\n",
    "        col(\"metric_group\").isNull() & (col(\"metric\") == 'Declared as not meeting the criteria to reside at morning board … later in day meets the criteria to reside so discharge stopped'), lit('NCTR')\n",
    "    ).when(\n",
    "        col(\"metric_group\").isNull() & (col(\"metric\") == 'Homeless/no right of recourse to public funds/no place to discharge to'), lit('B1')\n",
    "    ).when(\n",
    "        col(\"metric_group\").isNull() & (col(\"metric\") == 'Individual/family not in agreement with discharge plans'), lit('B2')\n",
    "    ).when(\n",
    "        col(\"metric_group\").isNull() & (col(\"metric\") == 'Safeguarding concern preventing discharge or Court of protection'), lit('B3')\n",
    "    ).when(\n",
    "        col(\"metric_group\").isNull() & (col(\"metric\") == 'Remains in hospital to avoid spread of (non-Covid 19) infectious…'), lit('B4')\n",
    "    ).when(\n",
    "        col(\"metric_group\").isNull() & (col(\"metric\") == \"P0 - Domestic home without reablement support\"), lit(\"P0\")\n",
    "    ).when(\n",
    "        col(\"metric_group\").isNull() & (col(\"metric\") == \"P0 - Other without reablement support\"), lit(\"P0\")\n",
    "    ).when(\n",
    "        col(\"metric_group\").isNull() & (col(\"metric\") == \"P1 - Domestic home with reablement support\"), lit(\"P1\")\n",
    "    ).when(\n",
    "        col(\"metric_group\").isNull() & (col(\"metric\") == \"P1 - Other with reablement support\"), lit(\"P1\")\n",
    "    ).when(\n",
    "        col(\"metric_group\").isNull() & (col(\"metric\") == \"P1 - Hotel with reablement support\"), lit(\"P1\")\n",
    "    ).when(\n",
    "        col(\"metric_group\").isNull() & (col(\"metric\") == \"Declared as not meeting the criteria to reside at morning board … later in day meets the criteria to reside so discharge stopped\"), lit(\"NCTR\")\n",
    "    ).when(\n",
    "        col(\"metric_group\").isNull() & (col(\"metric\") == \"Pathway 1: awaiting availability of resource for assessment and start of care at home\"), lit(\"C\")\n",
    "    ).when(\n",
    "        col(\"metric_group\").isNull() & (col(\"metric\") == \"Pathway 2: awaiting availability of rehabilitation bed in community hospital or other bedded setting\"), lit(\"D\")\n",
    "    ).when(\n",
    "        col(\"metric_group\").isNull() & (col(\"metric\") == \"Pathway 3: awaiting availability of a bed in a residential or nursing home that is likely to be a permanent placement\"), lit(\"E\")\n",
    "    ).when(\n",
    "        col(\"metric_group\").isNull() & (col(\"metric\") == \"Remains in hospital to avoid spread of (non-Covid 19)\"), lit(\"B4\")\n",
    "    ).when(\n",
    "        col(\"metric_group\").isNull() & (col(\"metric\") == \"Declared as not meeting the criteria to reside at morning board round and then later in day meets the criteria to reside so discharge stopped\"), lit(\"NCTR\")\n",
    "    ).when(\n",
    "        col(\"metric_group\").isNull() & (col(\"metric\") == \"Remains in hospital to avoid spread of (non-Covid 19) infectious disease and because there is no other suitable location to discharge to\"), lit(\"B4\")\n",
    "    ).otherwise(col(\"metric_group\"))\n",
    ")"
   ]
  },
  {
   "cell_type": "code",
   "execution_count": 0,
   "metadata": {
    "application/vnd.databricks.v1+cell": {
     "cellMetadata": {
      "byteLimit": 2048000,
      "rowLimit": 10000
     },
     "inputWidgets": {},
     "nuid": "2807ae57-b4b3-4017-af3f-120af648475a",
     "showTitle": false,
     "tableResultSettingsMap": {},
     "title": ""
    }
   },
   "outputs": [],
   "source": [
    "null_counts = df.select([sum(col(c).isNull().cast(\"int\")).alias(c) for c in df.columns])\n",
    "display(null_counts)"
   ]
  },
  {
   "cell_type": "code",
   "execution_count": 0,
   "metadata": {
    "application/vnd.databricks.v1+cell": {
     "cellMetadata": {
      "byteLimit": 2048000,
      "rowLimit": 10000
     },
     "inputWidgets": {},
     "nuid": "a4f42672-e931-4e11-bd67-205a6e94b1ce",
     "showTitle": false,
     "tableResultSettingsMap": {},
     "title": ""
    }
   },
   "outputs": [],
   "source": [
    "display(df)"
   ]
  },
  {
   "cell_type": "markdown",
   "metadata": {
    "application/vnd.databricks.v1+cell": {
     "cellMetadata": {},
     "inputWidgets": {},
     "nuid": "ac03bddd-ff54-4632-96f1-dfe52e6b2b75",
     "showTitle": false,
     "tableResultSettingsMap": {},
     "title": ""
    }
   },
   "source": [
    "“In the NHS template, they use [z] as a placeholder whenever a column doesn’t apply.\n",
    "\n",
    "For the ‘England’ row there isn’t a specific region or ICB, so they mark both as [z].\n",
    "\n",
    "For a ‘Region’ row there isn’t a single ICB, so that cell is [z].\n",
    "\n",
    "We keep that in our data so it’s clear which rows are aggregates (all England, or entire region) versus rows for a specific ICB or provider.”\n"
   ]
  },
  {
   "cell_type": "code",
   "execution_count": 0,
   "metadata": {
    "application/vnd.databricks.v1+cell": {
     "cellMetadata": {
      "byteLimit": 2048000,
      "rowLimit": 10000
     },
     "inputWidgets": {},
     "nuid": "e2594a2b-d59f-4194-b509-dd80c60aef83",
     "showTitle": false,
     "tableResultSettingsMap": {},
     "title": ""
    }
   },
   "outputs": [],
   "source": [
    "row_count = df.count()\n",
    "row_count"
   ]
  },
  {
   "cell_type": "code",
   "execution_count": 0,
   "metadata": {
    "application/vnd.databricks.v1+cell": {
     "cellMetadata": {
      "byteLimit": 2048000,
      "rowLimit": 10000
     },
     "inputWidgets": {},
     "nuid": "e1ee5aa6-7c4b-467e-8931-57a417a3f07c",
     "showTitle": false,
     "tableResultSettingsMap": {},
     "title": ""
    }
   },
   "outputs": [],
   "source": [
    "# assuming `df` is your Silver DataFrame\n",
    "df = df.dropDuplicates(df.columns)\n"
   ]
  },
  {
   "cell_type": "code",
   "execution_count": 0,
   "metadata": {
    "application/vnd.databricks.v1+cell": {
     "cellMetadata": {
      "byteLimit": 2048000,
      "rowLimit": 10000
     },
     "inputWidgets": {},
     "nuid": "8232096c-9209-457f-ba9b-019c9f0b1924",
     "showTitle": false,
     "tableResultSettingsMap": {},
     "title": ""
    }
   },
   "outputs": [],
   "source": [
    "df.count()"
   ]
  },
  {
   "cell_type": "code",
   "execution_count": 0,
   "metadata": {
    "application/vnd.databricks.v1+cell": {
     "cellMetadata": {
      "byteLimit": 2048000,
      "rowLimit": 10000
     },
     "inputWidgets": {},
     "nuid": "896445da-5482-48e6-a940-f29e7869b820",
     "showTitle": false,
     "tableResultSettingsMap": {},
     "title": ""
    }
   },
   "outputs": [],
   "source": [
    "df.write.format(\"delta\").mode(\"append\").option(\"path\",\"abfss://silver@cajainterview.dfs.core.windows.net/dailydischarge\").save()"
   ]
  },
  {
   "cell_type": "code",
   "execution_count": 0,
   "metadata": {
    "application/vnd.databricks.v1+cell": {
     "cellMetadata": {
      "byteLimit": 2048000,
      "implicitDf": true,
      "rowLimit": 10000
     },
     "inputWidgets": {},
     "nuid": "e9fbf019-78f1-4b8d-9525-720a5aa39a17",
     "showTitle": false,
     "tableResultSettingsMap": {},
     "title": ""
    }
   },
   "outputs": [],
   "source": [
    "%sql\n",
    "create table if not exists databricks_cata.silver.acute_discharge_situation\n",
    "using delta\n",
    "location 'abfss://silver@cajainterview.dfs.core.windows.net/dailydischarge'"
   ]
  },
  {
   "cell_type": "code",
   "execution_count": 0,
   "metadata": {
    "application/vnd.databricks.v1+cell": {
     "cellMetadata": {
      "byteLimit": 2048000,
      "implicitDf": true,
      "rowLimit": 10000
     },
     "inputWidgets": {},
     "nuid": "05a7543c-461c-422a-8cef-699b74cf1657",
     "showTitle": false,
     "tableResultSettingsMap": {},
     "title": ""
    }
   },
   "outputs": [],
   "source": [
    "%sql\n",
    "select * from databricks_cata.silver.acute_discharge_situation"
   ]
  }
 ],
 "metadata": {
  "application/vnd.databricks.v1+notebook": {
   "computePreferences": null,
   "dashboards": [],
   "environmentMetadata": {
    "base_environment": "",
    "environment_version": "2"
   },
   "inputWidgetPreferences": null,
   "language": "python",
   "notebookMetadata": {
    "mostRecentlyExecutedCommandWithImplicitDF": {
     "commandId": 6358219255177981,
     "dataframes": [
      "_sqldf"
     ]
    },
    "pythonIndentUnit": 4
   },
   "notebookName": "silver",
   "widgets": {}
  },
  "language_info": {
   "name": "python"
  }
 },
 "nbformat": 4,
 "nbformat_minor": 0
}