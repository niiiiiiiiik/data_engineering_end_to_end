{
 "cells": [
  {
   "cell_type": "markdown",
   "metadata": {
    "application/vnd.databricks.v1+cell": {
     "cellMetadata": {},
     "inputWidgets": {},
     "nuid": "54f14da6-f04f-444c-b88e-b078ed355149",
     "showTitle": false,
     "tableResultSettingsMap": {},
     "title": ""
    }
   },
   "source": [
    "data reading from source\n",
    "\n"
   ]
  },
  {
   "cell_type": "code",
   "execution_count": 0,
   "metadata": {
    "application/vnd.databricks.v1+cell": {
     "cellMetadata": {
      "byteLimit": 2048000,
      "rowLimit": 10000
     },
     "inputWidgets": {},
     "nuid": "805c94d7-66b1-497d-90c1-a0566a716fe4",
     "showTitle": false,
     "tableResultSettingsMap": {},
     "title": ""
    }
   },
   "outputs": [],
   "source": [
    "df=spark.sql(\"select * from databricks_cata.silver.acute_discharge_situation\")"
   ]
  },
  {
   "cell_type": "code",
   "execution_count": 0,
   "metadata": {
    "application/vnd.databricks.v1+cell": {
     "cellMetadata": {
      "byteLimit": 2048000,
      "implicitDf": true,
      "rowLimit": 10000
     },
     "inputWidgets": {},
     "nuid": "f431574e-384e-48c6-8f05-41096a45538d",
     "showTitle": false,
     "tableResultSettingsMap": {},
     "title": ""
    }
   },
   "outputs": [],
   "source": [
    "from pyspark.sql.functions import col, count\n",
    "\n",
    "# 1. List all columns\n",
    "all_cols = df.columns\n",
    "\n",
    "# 2. Group by every column, count duplicates\n",
    "dups = (\n",
    "    df.groupBy(all_cols)\n",
    "      .agg(count(\"*\").alias(\"cnt\"))\n",
    "      .filter(col(\"cnt\") > 1)\n",
    ")\n",
    "\n",
    "# 3. Show you any truly identical rows\n",
    "dups.show(truncate=False)\n"
   ]
  },
  {
   "cell_type": "code",
   "execution_count": 0,
   "metadata": {
    "application/vnd.databricks.v1+cell": {
     "cellMetadata": {
      "byteLimit": 2048000,
      "rowLimit": 10000
     },
     "inputWidgets": {},
     "nuid": "c0f834b0-acbb-4b49-b174-dc98779a3929",
     "showTitle": false,
     "tableResultSettingsMap": {},
     "title": ""
    }
   },
   "outputs": [],
   "source": [
    "dups.count()"
   ]
  },
  {
   "cell_type": "code",
   "execution_count": 0,
   "metadata": {
    "application/vnd.databricks.v1+cell": {
     "cellMetadata": {
      "byteLimit": 2048000,
      "rowLimit": 10000
     },
     "inputWidgets": {},
     "nuid": "806f1728-ead6-4cc6-8b41-8bdff2611c8e",
     "showTitle": false,
     "tableResultSettingsMap": {},
     "title": ""
    }
   },
   "outputs": [],
   "source": [
    "from pyspark.sql import functions as F\n",
    "\n",
    "# 1. Compute true min/max dates as before\n",
    "min_max = (\n",
    "    df\n",
    "    .withColumn(\"period_date\", F.to_date(\"period\", \"yyyy-MM-dd\"))\n",
    "    .agg(\n",
    "        F.min(\"period_date\").alias(\"start_date\"),\n",
    "        F.max(\"period_date\").alias(\"end_date\")\n",
    "    )\n",
    "    .collect()[0]\n",
    ")\n",
    "start = min_max[\"start_date\"]\n",
    "end   = min_max[\"end_date\"]\n",
    "\n",
    "# 2. Generate one seed row, then sequence & explode\n",
    "calendar_df = (\n",
    "    spark.range(1)   # single row with id = 0\n",
    "         .selectExpr(\n",
    "             f\"sequence(to_date('{start}'), to_date('{end}'), interval 1 day) AS dt\"\n",
    "         )\n",
    "         .select(F.explode(\"dt\").alias(\"date_key\"))\n",
    "         .withColumn(\"year\",        F.year(\"date_key\"))\n",
    "         .withColumn(\"month\",       F.month(\"date_key\"))\n",
    "         .withColumn(\"day\",         F.dayofmonth(\"date_key\"))\n",
    "         .withColumn(\"day_of_week\", F.dayofweek(\"date_key\"))\n",
    "         .withColumn(\"is_weekend\",  F.expr(\"day_of_week IN (1,7)\"))\n",
    ")\n",
    "\n",
    "display(calendar_df)  # you should now see one row per date\n"
   ]
  },
  {
   "cell_type": "code",
   "execution_count": 0,
   "metadata": {
    "application/vnd.databricks.v1+cell": {
     "cellMetadata": {
      "byteLimit": 2048000,
      "implicitDf": true,
      "rowLimit": 10000
     },
     "inputWidgets": {},
     "nuid": "7c1c0c76-be92-438b-b8c6-3cc3806a5c29",
     "showTitle": false,
     "tableResultSettingsMap": {},
     "title": ""
    }
   },
   "outputs": [],
   "source": [
    "calendar_df.write.mode(\"overwrite\").format(\"delta\").saveAsTable(\"databricks_cata.gold.dim_date\")"
   ]
  },
  {
   "cell_type": "code",
   "execution_count": 0,
   "metadata": {
    "application/vnd.databricks.v1+cell": {
     "cellMetadata": {
      "byteLimit": 2048000,
      "implicitDf": true,
      "rowLimit": 10000
     },
     "inputWidgets": {},
     "nuid": "988d1429-03ae-4e87-92ee-820e9ab107ad",
     "showTitle": false,
     "tableResultSettingsMap": {},
     "title": ""
    }
   },
   "outputs": [],
   "source": [
    "%sql\n",
    "select * from databricks_cata.gold.dim_date"
   ]
  },
  {
   "cell_type": "code",
   "execution_count": 0,
   "metadata": {
    "application/vnd.databricks.v1+cell": {
     "cellMetadata": {
      "byteLimit": 2048000,
      "rowLimit": 10000
     },
     "inputWidgets": {},
     "nuid": "2df8972f-bb39-435c-bf8c-44222df4c2b7",
     "showTitle": false,
     "tableResultSettingsMap": {},
     "title": ""
    }
   },
   "outputs": [],
   "source": [
    "dim_region = (df\n",
    "  .filter(\"level = 'Region'\")\n",
    "  .selectExpr(\"org_code as region_code\", \"org_name as region_name\")\n",
    "  .distinct()\n",
    ")\n",
    "\n",
    "dim_region.write.mode(\"overwrite\").format(\"delta\").saveAsTable(\"databricks_cata.gold.dim_region\")\n"
   ]
  },
  {
   "cell_type": "code",
   "execution_count": 0,
   "metadata": {
    "application/vnd.databricks.v1+cell": {
     "cellMetadata": {
      "byteLimit": 2048000,
      "implicitDf": true,
      "rowLimit": 10000
     },
     "inputWidgets": {},
     "nuid": "446457cf-6295-48f2-89cf-dccdc626e810",
     "showTitle": false,
     "tableResultSettingsMap": {},
     "title": ""
    }
   },
   "outputs": [],
   "source": [
    "%sql\n",
    "select * from databricks_cata.gold.dim_region"
   ]
  },
  {
   "cell_type": "code",
   "execution_count": 0,
   "metadata": {
    "application/vnd.databricks.v1+cell": {
     "cellMetadata": {
      "byteLimit": 2048000,
      "rowLimit": 10000
     },
     "inputWidgets": {},
     "nuid": "394ce003-e37e-4530-a9ad-bac774c7e9c1",
     "showTitle": false,
     "tableResultSettingsMap": {},
     "title": ""
    }
   },
   "outputs": [],
   "source": [
    "dim_icb = (df\n",
    "  .filter(\"level = 'ICB'\")\n",
    "  .selectExpr(\"org_code as icb_code\", \"org_name as icb_name\", \"region as region_code\")\n",
    "  .distinct()\n",
    ")\n",
    "\n",
    "dim_icb.write.mode(\"overwrite\").format(\"delta\").saveAsTable(\"databricks_cata.gold.dim_icb\")\n"
   ]
  },
  {
   "cell_type": "code",
   "execution_count": 0,
   "metadata": {
    "application/vnd.databricks.v1+cell": {
     "cellMetadata": {
      "byteLimit": 2048000,
      "implicitDf": true,
      "rowLimit": 10000
     },
     "inputWidgets": {},
     "nuid": "e57a5780-a336-4ce8-b86a-9f235f762a78",
     "showTitle": false,
     "tableResultSettingsMap": {},
     "title": ""
    }
   },
   "outputs": [],
   "source": [
    "%sql\n",
    "select * from databricks_cata.gold.dim_icb"
   ]
  },
  {
   "cell_type": "code",
   "execution_count": 0,
   "metadata": {
    "application/vnd.databricks.v1+cell": {
     "cellMetadata": {
      "byteLimit": 2048000,
      "rowLimit": 10000
     },
     "inputWidgets": {},
     "nuid": "c9caea02-2550-49ef-b17c-15734f5182cb",
     "showTitle": false,
     "tableResultSettingsMap": {},
     "title": ""
    }
   },
   "outputs": [],
   "source": [
    "dim_metric = (df\n",
    "  .select(\"metric_group\",\"metric\",\"metric_type\")\n",
    "  .distinct()\n",
    ")\n",
    "\n",
    "dim_metric.write.mode(\"overwrite\").format(\"delta\").saveAsTable(\"databricks_cata.gold.dim_metric\")\n"
   ]
  },
  {
   "cell_type": "code",
   "execution_count": 0,
   "metadata": {
    "application/vnd.databricks.v1+cell": {
     "cellMetadata": {
      "byteLimit": 2048000,
      "implicitDf": true,
      "rowLimit": 10000
     },
     "inputWidgets": {},
     "nuid": "cc087938-31b6-45d0-abf2-71a96c413de7",
     "showTitle": false,
     "tableResultSettingsMap": {},
     "title": ""
    }
   },
   "outputs": [],
   "source": [
    "%sql\n",
    "select * from databricks_cata.gold.dim_metric"
   ]
  },
  {
   "cell_type": "code",
   "execution_count": 0,
   "metadata": {
    "application/vnd.databricks.v1+cell": {
     "cellMetadata": {
      "byteLimit": 2048000,
      "rowLimit": 10000
     },
     "inputWidgets": {},
     "nuid": "d656c8fd-71f3-4f59-bc42-15b8569797a3",
     "showTitle": false,
     "tableResultSettingsMap": {},
     "title": ""
    }
   },
   "outputs": [],
   "source": [
    "df_silver = df.withColumn(\"period_date\", F.to_date(\"period\", \"yyyy-MM-dd\"))"
   ]
  },
  {
   "cell_type": "code",
   "execution_count": 0,
   "metadata": {
    "application/vnd.databricks.v1+cell": {
     "cellMetadata": {
      "byteLimit": 2048000,
      "rowLimit": 10000
     },
     "inputWidgets": {},
     "nuid": "46271807-cddd-4e8b-b2e4-e5784ed3c694",
     "showTitle": false,
     "tableResultSettingsMap": {},
     "title": ""
    }
   },
   "outputs": [],
   "source": [
    "display(df_silver)"
   ]
  },
  {
   "cell_type": "code",
   "execution_count": 0,
   "metadata": {
    "application/vnd.databricks.v1+cell": {
     "cellMetadata": {
      "byteLimit": 2048000,
      "rowLimit": 10000
     },
     "inputWidgets": {},
     "nuid": "52d21201-427d-4917-b21b-937faac44446",
     "showTitle": false,
     "tableResultSettingsMap": {},
     "title": ""
    }
   },
   "outputs": [],
   "source": [
    "from pyspark.sql.functions import to_date\n",
    "\n",
    "spark.table(\"databricks_cata.silver.acute_discharge_situation\") \\\n",
    "  .filter(\"level = 'ICB'\") \\\n",
    "  .selectExpr(\n",
    "    \"to_date(period,'yyyy-MM-dd') AS date_key\",\n",
    "    \"org_code\",\n",
    "    \"metric_group\",\n",
    "    \"value\",\n",
    "    \"year\",\n",
    "    \"month\"\n",
    "  ) \\\n",
    "  .write \\\n",
    "  .mode(\"overwrite\") \\\n",
    "  .partitionBy(\"year\",\"month\") \\\n",
    "  .format(\"delta\") \\\n",
    "  .saveAsTable(\"databricks_cata.gold.fact_daily_sitrep\")\n"
   ]
  },
  {
   "cell_type": "code",
   "execution_count": 0,
   "metadata": {
    "application/vnd.databricks.v1+cell": {
     "cellMetadata": {
      "byteLimit": 2048000,
      "implicitDf": true,
      "rowLimit": 10000
     },
     "inputWidgets": {},
     "nuid": "5db5335c-9904-4d6d-9508-b618d07ac419",
     "showTitle": false,
     "tableResultSettingsMap": {},
     "title": ""
    }
   },
   "outputs": [],
   "source": [
    "%sql\n",
    "select * from databricks_cata.gold.fact_daily_sitrep"
   ]
  },
  {
   "cell_type": "code",
   "execution_count": 0,
   "metadata": {
    "application/vnd.databricks.v1+cell": {
     "cellMetadata": {
      "byteLimit": 2048000,
      "rowLimit": 10000
     },
     "inputWidgets": {},
     "nuid": "9a6b0a23-ba88-47fc-8aae-133c45e76f40",
     "showTitle": false,
     "tableResultSettingsMap": {},
     "title": ""
    }
   },
   "outputs": [],
   "source": [
    "from pyspark.sql.functions import expr, col\n",
    "\n",
    "fact_wide = (\n",
    "  spark.table(\"databricks_cata.gold.fact_daily_sitrep\")\n",
    "    .groupBy(\"date_key\", \"year\", \"month\", \"org_code\")\n",
    "    .pivot(\"metric_group\")\n",
    "    .agg(expr(\"sum(value)\"))\n",
    ")\n",
    "\n",
    "# Rename columns to remove spaces\n",
    "for col_name in fact_wide.columns:\n",
    "    new_col_name = col_name.replace(\" \", \"_\")\n",
    "    fact_wide = fact_wide.withColumnRenamed(col_name, new_col_name)\n",
    "\n",
    "fact_wide.write.mode(\"overwrite\").format(\"delta\").saveAsTable(\"databricks_cata.gold.vw_fact_wide\")"
   ]
  },
  {
   "cell_type": "code",
   "execution_count": 0,
   "metadata": {
    "application/vnd.databricks.v1+cell": {
     "cellMetadata": {
      "byteLimit": 2048000,
      "implicitDf": true,
      "rowLimit": 10000
     },
     "inputWidgets": {},
     "nuid": "c401430d-3d4f-4065-ba95-9a8f022ea465",
     "showTitle": false,
     "tableResultSettingsMap": {},
     "title": ""
    }
   },
   "outputs": [],
   "source": [
    "%sql\n",
    "select * from databricks_cata.gold.vw_fact_wide"
   ]
  },
  {
   "cell_type": "code",
   "execution_count": 0,
   "metadata": {
    "application/vnd.databricks.v1+cell": {
     "cellMetadata": {
      "byteLimit": 2048000,
      "rowLimit": 10000
     },
     "inputWidgets": {},
     "nuid": "ce572831-a944-4f4f-8984-5e935cdd8d92",
     "showTitle": false,
     "tableResultSettingsMap": {},
     "title": ""
    }
   },
   "outputs": [],
   "source": [
    "from pyspark.sql import functions as F\n",
    "from pyspark.sql.window import Window\n",
    "\n",
    "# 1a) Add year/month columns\n",
    "fact_monthly = (\n",
    "    spark.table(\"vw_fact_wide\")\n",
    "      .withColumn(\"year\",   F.year(\"date_key\"))\n",
    "      .withColumn(\"month\",  F.month(\"date_key\"))\n",
    ")\n",
    "\n",
    "# 1b) Aggregate to month × ICB\n",
    "monthly_agg = (\n",
    "    fact_monthly\n",
    "      .groupBy(\"org_code\",\"year\",\"month\")\n",
    "      .agg(\n",
    "        F.sum(F.col(\"NCTR\")).alias(\"total_delays\"),       # NCTR = count of patients delayed\n",
    "        F.sum(F.col(\"Discharges\")).alias(\"total_discharges\")   # DISCH = count of discharges (if available)\n",
    "      )\n",
    "      .withColumn(\n",
    "        \"delay_rate\",\n",
    "        # per-100 discharges; if DISCH is null/zero you’d need to handle separately\n",
    "        F.when(\n",
    "          F.col(\"total_discharges\")>0,\n",
    "          F.col(\"total_delays\")/F.col(\"total_discharges\")*100\n",
    "        ).otherwise(None)\n",
    "      )\n",
    ")\n",
    "\n",
    "monthly_agg.write.mode(\"overwrite\").format(\"delta\").saveAsTable(\"databricks_cata.gold.vw_monthly_rates\")"
   ]
  },
  {
   "cell_type": "code",
   "execution_count": 0,
   "metadata": {
    "application/vnd.databricks.v1+cell": {
     "cellMetadata": {
      "byteLimit": 2048000,
      "implicitDf": true,
      "rowLimit": 10000
     },
     "inputWidgets": {},
     "nuid": "2c776dcc-dd7c-40cf-9960-8110ec01838d",
     "showTitle": false,
     "tableResultSettingsMap": {},
     "title": ""
    }
   },
   "outputs": [],
   "source": [
    "%sql\n",
    "select * from databricks_cata.gold.vw_monthly_rates order by  year asc, month asc"
   ]
  },
  {
   "cell_type": "code",
   "execution_count": 0,
   "metadata": {
    "application/vnd.databricks.v1+cell": {
     "cellMetadata": {
      "byteLimit": 2048000,
      "rowLimit": 10000
     },
     "inputWidgets": {},
     "nuid": "fd783235-36c3-493f-9774-ce741dad7d74",
     "showTitle": false,
     "tableResultSettingsMap": {},
     "title": ""
    }
   },
   "outputs": [],
   "source": [
    "# 2a) Peer averages & stddev by month\n",
    "peer_stats = (\n",
    "    spark.table(\"databricks_cata.gold.vw_monthly_rates\")\n",
    "      .groupBy(\"year\",\"month\")\n",
    "      .agg(\n",
    "        F.mean(\"delay_rate\").alias(\"peer_avg_rate\"),\n",
    "        F.stddev(\"delay_rate\").alias(\"peer_stddev_rate\")\n",
    "      )\n",
    ")\n",
    "\n",
    "# 2b) Join back & compute Z-score\n",
    "peer_benchmarked = (\n",
    "    spark.table(\"databricks_cata.gold.vw_monthly_rates\")\n",
    "      .join(peer_stats, [\"year\",\"month\"])\n",
    "      .withColumn(\n",
    "        \"z_score\",\n",
    "        (F.col(\"delay_rate\") - F.col(\"peer_avg_rate\")) / F.col(\"peer_stddev_rate\")\n",
    "      )\n",
    ")\n",
    "\n",
    "peer_benchmarked.write.mode(\"overwrite\").format(\"delta\").saveAsTable(\"databricks_cata.gold.vw_peer_benchmarked\")"
   ]
  },
  {
   "cell_type": "code",
   "execution_count": 0,
   "metadata": {
    "application/vnd.databricks.v1+cell": {
     "cellMetadata": {
      "byteLimit": 2048000,
      "implicitDf": true,
      "rowLimit": 10000
     },
     "inputWidgets": {},
     "nuid": "87311e1a-b813-44f9-a75d-98a298417e04",
     "showTitle": false,
     "tableResultSettingsMap": {},
     "title": ""
    }
   },
   "outputs": [],
   "source": [
    "%sql\n",
    "select * from databricks_cata.gold.vw_peer_benchmarked order by year asc, month asc "
   ]
  },
  {
   "cell_type": "code",
   "execution_count": 0,
   "metadata": {
    "application/vnd.databricks.v1+cell": {
     "cellMetadata": {
      "byteLimit": 2048000,
      "rowLimit": 10000
     },
     "inputWidgets": {},
     "nuid": "f9e562eb-c576-4198-9f1a-6adf7e1b5eb9",
     "showTitle": false,
     "tableResultSettingsMap": {},
     "title": ""
    }
   },
   "outputs": [],
   "source": [
    "# 5a) Monthly sum of A8 per ICB\n",
    "barrier_monthly = (\n",
    "    fact_monthly\n",
    "      .groupBy(\"org_code\",\"year\",\"month\")\n",
    "      .agg(F.sum(\"A8\").alias(\"transport_delays\"))\n",
    ")\n",
    "\n",
    "# 5b) Peer stats and z-score\n",
    "barrier_peer = (\n",
    "    barrier_monthly\n",
    "      .join(\n",
    "        barrier_monthly\n",
    "          .groupBy(\"year\",\"month\")\n",
    "          .agg(\n",
    "            F.mean(\"transport_delays\").alias(\"peer_avg\"),\n",
    "            F.stddev(\"transport_delays\").alias(\"peer_std\")\n",
    "          ),\n",
    "        [\"year\",\"month\"]\n",
    "      )\n",
    "      .withColumn(\n",
    "        \"z_score_transport\",\n",
    "        (F.col(\"transport_delays\") - F.col(\"peer_avg\")) / F.col(\"peer_std\")\n",
    "      )\n",
    "      .select(\"year\",\"month\",\"transport_delays\",\"peer_avg\",\"z_score_transport\")\n",
    ")\n",
    "display(barrier_peer)\n"
   ]
  },
  {
   "cell_type": "code",
   "execution_count": 0,
   "metadata": {
    "application/vnd.databricks.v1+cell": {
     "cellMetadata": {
      "byteLimit": 2048000,
      "rowLimit": 10000
     },
     "inputWidgets": {},
     "nuid": "604fa8e7-0b37-4b5a-ba47-96a81d353e31",
     "showTitle": false,
     "tableResultSettingsMap": {},
     "title": ""
    }
   },
   "outputs": [],
   "source": [
    "from pyspark.sql import functions as F\n",
    "\n",
    "# 1) unpivot A1–A8 into barrier, count\n",
    "barrier_unpivot = (\n",
    "  spark.table(\"databricks_cata.gold.vw_fact_wide\")\n",
    "    .selectExpr(\n",
    "      \"date_key\", \"org_code as icb_code\",\n",
    "      \"year\", \"month\",\n",
    "      \"\"\"\n",
    "      stack(\n",
    "        8,\n",
    "        'A1', A1,\n",
    "        'A2', A2,\n",
    "        'A3', A3,\n",
    "        'A4', A4,\n",
    "        'A5', A5,\n",
    "        'A6', A6,\n",
    "        'A7', A7,\n",
    "        'A8', A8\n",
    "      ) AS (barrier, delay_count)\n",
    "      \"\"\"\n",
    "    )\n",
    "    .filter(\"delay_count IS NOT NULL\")\n",
    ")\n",
    "\n",
    "# 2) aggregate to month×ICB×barrier\n",
    "barrier_monthly = (\n",
    "  barrier_unpivot\n",
    "    .groupBy(\"icb_code\",\"year\",\"month\",\"barrier\")\n",
    "    .agg(F.sum(\"delay_count\").alias(\"total_barrier\"))\n",
    ")\n",
    "\n",
    "# 3) compute peer avg & stddev per barrier×month\n",
    "peer_barrier_stats = (\n",
    "  barrier_monthly\n",
    "    .groupBy(\"barrier\",\"year\",\"month\")\n",
    "    .agg(\n",
    "      F.mean(\"total_barrier\").alias(\"peer_avg\"),\n",
    "      F.stddev(\"total_barrier\").alias(\"peer_std\")\n",
    "    )\n",
    ")\n",
    "\n",
    "# 4) join back & z-score\n",
    "barrier_zscores = (\n",
    "  barrier_monthly\n",
    "    .join(peer_barrier_stats, [\"barrier\",\"year\",\"month\"])\n",
    "    .withColumn(\n",
    "      \"z_score_barrier\",\n",
    "      (F.col(\"total_barrier\") - F.col(\"peer_avg\")) / F.col(\"peer_std\")\n",
    "    )\n",
    ")\n",
    "\n",
    "barrier_zscores.createOrReplaceTempView(\"vw_barrier_zscores\")\n"
   ]
  },
  {
   "cell_type": "code",
   "execution_count": 0,
   "metadata": {
    "application/vnd.databricks.v1+cell": {
     "cellMetadata": {
      "byteLimit": 2048000,
      "implicitDf": true,
      "rowLimit": 10000
     },
     "inputWidgets": {},
     "nuid": "3524aa3f-9210-4280-ad13-f55b8b0ffbe5",
     "showTitle": false,
     "tableResultSettingsMap": {},
     "title": ""
    }
   },
   "outputs": [],
   "source": [
    "%sql\n",
    "SELECT * \n",
    "FROM vw_barrier_zscores\n",
    "ORDER BY year, month, barrier, icb_code\n"
   ]
  },
  {
   "cell_type": "code",
   "execution_count": 0,
   "metadata": {
    "application/vnd.databricks.v1+cell": {
     "cellMetadata": {
      "byteLimit": 2048000,
      "rowLimit": 10000
     },
     "inputWidgets": {},
     "nuid": "eb1dbc23-be6b-42f6-8e3a-28756ea53387",
     "showTitle": false,
     "tableResultSettingsMap": {},
     "title": ""
    }
   },
   "outputs": [],
   "source": [
    "barrier_zscores.write.mode(\"overwrite\").format(\"delta\").saveAsTable(\"databricks_cata.gold.vw_barrier_zscores\")"
   ]
  },
  {
   "cell_type": "code",
   "execution_count": 0,
   "metadata": {
    "application/vnd.databricks.v1+cell": {
     "cellMetadata": {
      "byteLimit": 2048000,
      "rowLimit": 10000
     },
     "inputWidgets": {},
     "nuid": "ced9d9b2-cfd0-47da-963c-8b0a89a5099f",
     "showTitle": false,
     "tableResultSettingsMap": {},
     "title": ""
    }
   },
   "outputs": [],
   "source": [
    "from pyspark.sql import functions as F\n",
    "from pyspark.sql.window import Window\n",
    "\n",
    "# 1) Define exactly which metric_group columns you want to include\n",
    "metrics = [\n",
    "    \"NCTR\",\n",
    "    \"A1\",\n",
    "    \"A2\",\n",
    "    \"A3\",\n",
    "    \"A4\",\n",
    "    \"A5\",\n",
    "    \"A6\",\n",
    "    \"A7\",\n",
    "    \"A8\",\n",
    "    \"Additional_bed_days_lost\"\n",
    "]\n",
    "\n",
    "# 2) Aggregate each metric by month × ICB, then unpivot with stack()\n",
    "reason_monthly = (\n",
    "    spark\n",
    "      .table(\"databricks_cata.gold.vw_fact_wide\")\n",
    "      .groupBy(\"org_code\", \"year\", \"month\")\n",
    "      .agg(\n",
    "        *[F.sum(F.col(m)).alias(m) for m in metrics]\n",
    "      )\n",
    "      .selectExpr(\n",
    "        \"org_code\", \"year\", \"month\",\n",
    "        f\"\"\"\n",
    "        stack(\n",
    "          {len(metrics)},\n",
    "          {', '.join([f\"'{m}', `{m}`\" for m in metrics])}\n",
    "        ) AS (reason, count)\n",
    "        \"\"\"\n",
    "      )\n",
    "      .filter(\"count IS NOT NULL\")      # drop any null‐count rows\n",
    ")\n",
    "\n",
    "# 3) Rank each reason within its ICB × month by descending count\n",
    "window_spec = Window.partitionBy(\"org_code\", \"year\", \"month\") \\\n",
    "                    .orderBy(F.desc(\"count\"))\n",
    "\n",
    "top_reasons = (\n",
    "    reason_monthly\n",
    "      .withColumn(\"rank\", F.rank().over(window_spec))\n",
    "      .filter(\"rank <= 3\")\n",
    ")\n",
    "\n",
    "top_reasons.write.mode(\"overwrite\").format(\"delta\").saveAsTable(\"databricks_cata.gold.vw_top_reasons\")\n"
   ]
  },
  {
   "cell_type": "code",
   "execution_count": 0,
   "metadata": {
    "application/vnd.databricks.v1+cell": {
     "cellMetadata": {
      "byteLimit": 2048000,
      "implicitDf": true,
      "rowLimit": 10000
     },
     "inputWidgets": {},
     "nuid": "93edc547-67bc-4142-b483-97647df72aa7",
     "showTitle": false,
     "tableResultSettingsMap": {},
     "title": ""
    }
   },
   "outputs": [],
   "source": [
    "%sql\n",
    "select * from databricks_cata.gold.vw_top_reasons"
   ]
  },
  {
   "cell_type": "code",
   "execution_count": 0,
   "metadata": {
    "application/vnd.databricks.v1+cell": {
     "cellMetadata": {
      "byteLimit": 2048000,
      "implicitDf": true,
      "rowLimit": 10000
     },
     "inputWidgets": {},
     "nuid": "7dd59ae5-3760-4184-9948-0acb2b987146",
     "showTitle": false,
     "tableResultSettingsMap": {},
     "title": ""
    }
   },
   "outputs": [],
   "source": [
    "%sql\n",
    "SELECT org_code, year, month, reason, count\n",
    "FROM vw_top3_reasons\n",
    "ORDER BY org_code, year, month, rank;\n"
   ]
  },
  {
   "cell_type": "code",
   "execution_count": 0,
   "metadata": {
    "application/vnd.databricks.v1+cell": {
     "cellMetadata": {
      "byteLimit": 2048000,
      "implicitDf": true,
      "rowLimit": 10000
     },
     "inputWidgets": {},
     "nuid": "8ca2b617-8ff4-4629-8f5e-c73db0958e2e",
     "showTitle": false,
     "tableResultSettingsMap": {},
     "title": ""
    }
   },
   "outputs": [],
   "source": [
    "%sql\n",
    "Select * from databricks_cata.gold.dim_metric"
   ]
  },
  {
   "cell_type": "code",
   "execution_count": 0,
   "metadata": {
    "application/vnd.databricks.v1+cell": {
     "cellMetadata": {
      "byteLimit": 2048000,
      "implicitDf": true,
      "rowLimit": 10000
     },
     "inputWidgets": {},
     "nuid": "c57af504-a78d-4dcf-85d4-ba4eb70561e2",
     "showTitle": false,
     "tableResultSettingsMap": {},
     "title": ""
    }
   },
   "outputs": [],
   "source": [
    "%sql\n",
    "select * from databricks_cata.gold.vw_barrier_zscores"
   ]
  },
  {
   "cell_type": "code",
   "execution_count": 0,
   "metadata": {
    "application/vnd.databricks.v1+cell": {
     "cellMetadata": {
      "byteLimit": 2048000,
      "implicitDf": true,
      "rowLimit": 10000
     },
     "inputWidgets": {},
     "nuid": "fa593fd9-9a58-4278-ba6a-4bf127678c7e",
     "showTitle": false,
     "tableResultSettingsMap": {},
     "title": ""
    }
   },
   "outputs": [],
   "source": [
    "%sql\n",
    "select * from databricks_cata.gold.fact_daily_sitrep"
   ]
  },
  {
   "cell_type": "code",
   "execution_count": 0,
   "metadata": {
    "application/vnd.databricks.v1+cell": {
     "cellMetadata": {
      "byteLimit": 2048000,
      "rowLimit": 10000
     },
     "inputWidgets": {},
     "nuid": "153aa609-7673-4540-8013-233a561ceec5",
     "showTitle": false,
     "tableResultSettingsMap": {},
     "title": ""
    }
   },
   "outputs": [],
   "source": [
    "from pyspark.sql import functions as F\n",
    "from pyspark.sql.window import Window\n",
    "\n",
    "# 0) Start from your wide fact\n",
    "fact = spark.table(\"databricks_cata.gold.vw_fact_wide\")\n",
    "\n",
    "# 1) Fill NULLs → 0 for A1–A8\n",
    "for b in [\"A1\",\"A2\",\"A3\",\"A4\",\"A5\",\"A6\",\"A7\",\"A8\"]:\n",
    "    fact = fact.withColumn(b, F.coalesce(F.col(b), F.lit(0)))\n",
    "\n",
    "# 2) Unpivot *including* zeros (no filter)\n",
    "barrier_unpivot = fact.selectExpr(\n",
    "    \"org_code as icb_code\", \"year\", \"month\",\n",
    "    \"\"\"\n",
    "    stack(\n",
    "      8,\n",
    "      'A1', A1,\n",
    "      'A2', A2,\n",
    "      'A3', A3,\n",
    "      'A4', A4,\n",
    "      'A5', A5,\n",
    "      'A6', A6,\n",
    "      'A7', A7,\n",
    "      'A8', A8\n",
    "    ) AS (barrier, total_barrier)\n",
    "    \"\"\"\n",
    ")\n",
    "\n",
    "# 3) Compute peer stats & Z-score exactly as before\n",
    "peer_barrier_stats = (\n",
    "    barrier_unpivot\n",
    "      .groupBy(\"barrier\",\"year\",\"month\")\n",
    "      .agg(\n",
    "        F.mean(\"total_barrier\").alias(\"peer_avg\"),\n",
    "        F.stddev(\"total_barrier\").alias(\"peer_std\")\n",
    "      )\n",
    ")\n",
    "\n",
    "barrier_zscores = (\n",
    "    barrier_unpivot\n",
    "      .join(peer_barrier_stats, [\"barrier\",\"year\",\"month\"])\n",
    "      .withColumn(\"z_score_barrier\",\n",
    "          (F.col(\"total_barrier\") - F.col(\"peer_avg\")) / F.col(\"peer_std\")\n",
    "      )\n",
    ")\n",
    "\n",
    "barrier_zscores.createOrReplaceTempView(\"vw_barrier_zscores\")\n"
   ]
  },
  {
   "cell_type": "code",
   "execution_count": 0,
   "metadata": {
    "application/vnd.databricks.v1+cell": {
     "cellMetadata": {
      "byteLimit": 2048000,
      "implicitDf": true,
      "rowLimit": 10000
     },
     "inputWidgets": {},
     "nuid": "a25bdbb5-e732-4ad5-b458-97e6553dc24f",
     "showTitle": false,
     "tableResultSettingsMap": {},
     "title": ""
    }
   },
   "outputs": [],
   "source": [
    "%sql\n",
    "select * from vw_barrier_zscores"
   ]
  },
  {
   "cell_type": "code",
   "execution_count": 0,
   "metadata": {
    "application/vnd.databricks.v1+cell": {
     "cellMetadata": {
      "byteLimit": 2048000,
      "rowLimit": 10000
     },
     "inputWidgets": {},
     "nuid": "586e5725-e49b-43f8-a738-cbd39f58e945",
     "showTitle": false,
     "tableResultSettingsMap": {},
     "title": ""
    },
    "jupyter": {
     "outputs_hidden": true
    }
   },
   "outputs": [],
   "source": [
    "barrier_zscores.write.format(\"delta\").mode(\"overwrite\").saveAsTable(\"databricks_cata.gold.vw_barrier_zscores\")"
   ]
  },
  {
   "cell_type": "code",
   "execution_count": 0,
   "metadata": {
    "application/vnd.databricks.v1+cell": {
     "cellMetadata": {
      "byteLimit": 2048000,
      "implicitDf": true,
      "rowLimit": 10000
     },
     "inputWidgets": {},
     "nuid": "586eb185-8893-4c22-8ea3-d31025253cec",
     "showTitle": false,
     "tableResultSettingsMap": {},
     "title": ""
    }
   },
   "outputs": [],
   "source": [
    "%sql\n",
    "select count(*) as ctr_count\n",
    "from databricks_cata.gold.fact_daily_sitrep\n",
    "where metric_group = 'CTR'"
   ]
  }
 ],
 "metadata": {
  "application/vnd.databricks.v1+notebook": {
   "computePreferences": null,
   "dashboards": [],
   "environmentMetadata": {
    "base_environment": "",
    "environment_version": "2"
   },
   "inputWidgetPreferences": null,
   "language": "python",
   "notebookMetadata": {
    "mostRecentlyExecutedCommandWithImplicitDF": {
     "commandId": 5153450907037592,
     "dataframes": [
      "_sqldf"
     ]
    },
    "pythonIndentUnit": 4
   },
   "notebookName": "gold",
   "widgets": {
    "in_load_flag": {
     "currentValue": "1",
     "nuid": "78f98a7d-494d-4fda-b239-98606f195283",
     "typedWidgetInfo": {
      "autoCreated": false,
      "defaultValue": "",
      "label": "",
      "name": "in_load_flag",
      "options": {
       "widgetDisplayType": "Text",
       "validationRegex": null
      },
      "parameterDataType": "String"
     },
     "widgetInfo": {
      "widgetType": "text",
      "defaultValue": "",
      "label": "",
      "name": "in_load_flag",
      "options": {
       "widgetType": "text",
       "autoCreated": false,
       "validationRegex": null
      }
     }
    }
   }
  },
  "language_info": {
   "name": "python"
  }
 },
 "nbformat": 4,
 "nbformat_minor": 0
}